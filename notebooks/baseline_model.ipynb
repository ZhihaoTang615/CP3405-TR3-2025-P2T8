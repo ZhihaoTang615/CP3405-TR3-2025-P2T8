{
 "cells": [
  {
   "cell_type": "markdown",
   "id": "6c11843c",
   "metadata": {},
   "source": [
    "# SmartSeat Data/ML Baseline (Week 4)\n",
    "\n",
    "We demonstrate a minimal, runnable baseline for SmartSeat’s seat recommendation.\n",
    "\n",
    "- **Data**: `data/sample_seats.csv`  \n",
    "- **Logic**: prefer near-power (×2) + window (×1); only unoccupied seats  \n",
    "- **Output**: recommended seat_id (expected: `3` for baseline)\n"
   ]
  },
  {
   "cell_type": "code",
   "execution_count": null,
   "id": "8e8c346a",
   "metadata": {},
   "outputs": [],
   "source": [
    "from src.baseline import recommend_seat\n",
    "print(\"Recommended seat:\", recommend_seat(\"data/sample_seats.csv\"))"
   ]
  },
  {
   "cell_type": "code",
   "execution_count": null,
   "id": "b6b730dd",
   "metadata": {},
   "outputs": [],
   "source": [
    "from src.baseline import load_seats, score_rows\n",
    "df = load_seats(\"data/sample_seats.csv\")\n",
    "scored = score_rows(df).sort_values(\n",
    "    [\"score\",\"is_near_power\",\"is_window\",\"seat_id\"],\n",
    "    ascending=[False,False,False,True]\n",
    ")\n",
    "scored"
   ]
  }
 ],
 "metadata": {},
 "nbformat": 4,
 "nbformat_minor": 5
}