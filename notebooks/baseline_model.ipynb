{
 "cells": [
  {
   "cell_type": "code",
   "execution_count": null,
   "id": "a840c58e",
   "metadata": {
    "vscode": {
     "languageId": "plaintext"
    }
   },
   "outputs": [],
   "source": [
    "# SmartSeat Data/ML Baseline (Week 4)\n",
    "\n",
    "We demonstrate a minimal, runnable baseline for SmartSeat seat recommendation.\n",
    "\n",
    "- **Data**: `data/sample_seats.csv`  \n",
    "- **Logic**: prefer near-power (×2) + window (×1); only unoccupied seats  \n",
    "- **Output**: recommended seat_id (expected: 3)\n"
   ]
  },
  {
   "cell_type": "code",
   "execution_count": null,
   "id": "339f0f10",
   "metadata": {
    "vscode": {
     "languageId": "plaintext"
    }
   },
   "outputs": [],
   "source": [
    "from src.baseline import recommend_seat\n",
    "\n",
    "print(\"Recommended seat:\", recommend_seat(\"data/sample_seats.csv\"))\n"
   ]
  },
  {
   "cell_type": "code",
   "execution_count": null,
   "id": "1bdebefa",
   "metadata": {
    "vscode": {
     "languageId": "plaintext"
    }
   },
   "outputs": [],
   "source": [
    "# 查看评分详情\n",
    "from src.baseline import load_seats, score_rows\n",
    "\n",
    "df = load_seats(\"data/sample_seats.csv\")\n",
    "score_rows(df)\n"
   ]
  }
 ],
 "metadata": {
  "language_info": {
   "name": "python"
  }
 },
 "nbformat": 4,
 "nbformat_minor": 5
}
