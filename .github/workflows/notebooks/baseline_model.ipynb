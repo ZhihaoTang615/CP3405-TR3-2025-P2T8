{
 "cells": [
  {
   "cell_type": "code",
   "execution_count": null,
   "id": "84a3eb03",
   "metadata": {
    "vscode": {
     "languageId": "plaintext"
    }
   },
   "outputs": [],
   "source": [
    "# SmartSeat Data/ML Baseline (Week 4)\n",
    "\n",
    "We demonstrate a minimal, runnable baseline for SmartSeat’s seat recommendation.\n",
    "\n",
    "- **Data**: `data/sample_seats.csv`  \n",
    "- **Logic**: prefer near-power (×2) + window (×1); only unoccupied seats  \n",
    "- **Output**: recommended seat_id (expected: `3` for baseline)\n"
   ]
  },
  {
   "cell_type": "code",
   "execution_count": null,
   "id": "5e6a10bf",
   "metadata": {
    "vscode": {
     "languageId": "plaintext"
    }
   },
   "outputs": [],
   "source": [
    "from src.baseline import recommend_seat\n",
    "\n",
    "print(\"Recommended seat:\", recommend_seat(\"data/sample_seats.csv\"))\n"
   ]
  },
  {
   "cell_type": "code",
   "execution_count": null,
   "id": "a702b19c",
   "metadata": {
    "vscode": {
     "languageId": "plaintext"
    }
   },
   "outputs": [],
   "source": [
    "from src.baseline import load_seats, score_rows\n",
    "import pandas as pd\n",
    "\n",
    "df = load_seats(\"data/sample_seats.csv\")\n",
    "scored = score_rows(df).sort_values(\n",
    "    [\"score\", \"is_near_power\", \"is_window\"],\n",
    "    ascending=[False, False, False]\n",
    ")\n",
    "scored\n"
   ]
  },
  {
   "cell_type": "code",
   "execution_count": null,
   "id": "c3bd19d1",
   "metadata": {
    "vscode": {
     "languageId": "plaintext"
    }
   },
   "outputs": [],
   "source": []
  },
  {
   "cell_type": "code",
   "execution_count": null,
   "id": "025020c9",
   "metadata": {
    "vscode": {
     "languageId": "plaintext"
    }
   },
   "outputs": [],
   "source": []
  }
 ],
 "metadata": {
  "language_info": {
   "name": "python"
  }
 },
 "nbformat": 4,
 "nbformat_minor": 5
}
