{
 "cells": [
  {
   "cell_type": "markdown",
   "id": "4157b7db",
   "metadata": {},
   "source": [
    "# SmartSeat Data/ML Baseline (Week 4)\n",
    "\n",
    "We demonstrate a minimal, runnable baseline for SmartSeat’s seat recommendation.\n",
    "\n",
    "- **Data**: `data/sample_seats.csv`  \n",
    "- **Logic**: prefer near-power (×2) + window (×1); only unoccupied seats  \n",
    "- **Output**: recommended seat_id (expected: `3` for baseline)\n"
   ]
  },
  {
   "cell_type": "code",
   "execution_count": 1,
   "id": "830d4657",
   "metadata": {},
   "outputs": [
    {
     "name": "stdout",
     "output_type": "stream",
     "text": [
      "Recommended seat: 3\n"
     ]
    }
   ],
   "source": [
    "from src.baseline import recommend_seat\n",
    "print(\"Recommended seat:\", recommend_seat(\"data/sample_seats.csv\"))"
   ]
  },
  {
   "cell_type": "code",
   "execution_count": 2,
   "id": "c221e361",
   "metadata": {},
   "outputs": [
    {
     "name": "stdout",
     "output_type": "stream",
     "text": [
      " seat_id  is_near_power  is_window  is_occupied  score\n",
      "       3              1          1            0      3\n",
      "       4              0          1            0      1\n",
      "       2              1          0            1      0\n",
      "       1              0          0            0      0\n",
      "       5              0          0            0      0\n"
     ]
    }
   ],
   "source": [
    "from src.baseline import load_seats, score_rows\n",
    "df = load_seats(\"data/sample_seats.csv\")\n",
    "scored = score_rows(df).sort_values(\n",
    "    [\"score\",\"is_near_power\",\"is_window\",\"seat_id\"],\n",
    "    ascending=[False,False,False,True]\n",
    ")\n",
    "scored"
   ]
  }
 ],
 "metadata": {},
 "nbformat": 4,
 "nbformat_minor": 5
}